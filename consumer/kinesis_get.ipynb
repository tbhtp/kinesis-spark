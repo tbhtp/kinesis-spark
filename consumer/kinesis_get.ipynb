{
 "cells": [
  {
   "cell_type": "code",
   "execution_count": 383,
   "id": "c1060e2d",
   "metadata": {},
   "outputs": [],
   "source": [
    "import boto3\n",
    "import pandas as pd\n",
    "from pprint import pprint\n",
    "import json"
   ]
  },
  {
   "cell_type": "code",
   "execution_count": 384,
   "id": "a63a2c20",
   "metadata": {},
   "outputs": [],
   "source": [
    "secrets = pd.read_json(\"../secrets/credentials.json\")\n",
    "creds = {\"aws_access_key_id\": secrets[\"aws\"][\"key_id\"],\n",
    "       \"aws_secret_access_key\": secrets[\"aws\"][\"key\"]\n",
    "}\n",
    "\n",
    "client = boto3.client(\"kinesis\",**creds)\n",
    "\n",
    "stream_name = \"finance\""
   ]
  },
  {
   "cell_type": "code",
   "execution_count": 385,
   "id": "2829edcd",
   "metadata": {},
   "outputs": [
    {
     "name": "stdout",
     "output_type": "stream",
     "text": [
      "{'ResponseMetadata': {'HTTPHeaders': {'content-length': '1431',\n",
      "                                      'content-type': 'application/x-amz-json-1.1',\n",
      "                                      'date': 'Mon, 29 Aug 2022 11:54:21 GMT',\n",
      "                                      'x-amz-id-2': 'RJwbTPDtet8eYhAQ1hBebEZfs1Y1RCI5PEhYykUWd/AW6IZjNVRXjqkX0B3yTbdAQOVXRLTpmJhnkJ/dXiD9Sry/5XYAsWV0',\n",
      "                                      'x-amzn-requestid': 'c3091255-d7cd-39ba-988f-b9780d2b2506'},\n",
      "                      'HTTPStatusCode': 200,\n",
      "                      'RequestId': 'c3091255-d7cd-39ba-988f-b9780d2b2506',\n",
      "                      'RetryAttempts': 0},\n",
      " 'StreamDescription': {'EncryptionType': 'NONE',\n",
      "                       'EnhancedMonitoring': [{'ShardLevelMetrics': []}],\n",
      "                       'HasMoreShards': False,\n",
      "                       'RetentionPeriodHours': 24,\n",
      "                       'Shards': [{'HashKeyRange': {'EndingHashKey': '85070591730234615865843651857942052863',\n",
      "                                                    'StartingHashKey': '0'},\n",
      "                                   'SequenceNumberRange': {'StartingSequenceNumber': '49632796690825759983943719042542636155255448144424468482'},\n",
      "                                   'ShardId': 'shardId-000000000000'},\n",
      "                                  {'HashKeyRange': {'EndingHashKey': '170141183460469231731687303715884105727',\n",
      "                                                    'StartingHashKey': '85070591730234615865843651857942052864'},\n",
      "                                   'SequenceNumberRange': {'StartingSequenceNumber': '49632796690848060729142249665684171873528096505930448914'},\n",
      "                                   'ShardId': 'shardId-000000000001'},\n",
      "                                  {'HashKeyRange': {'EndingHashKey': '255211775190703847597530955573826158591',\n",
      "                                                    'StartingHashKey': '170141183460469231731687303715884105728'},\n",
      "                                   'SequenceNumberRange': {'StartingSequenceNumber': '49632796690870361474340780288825707591800744867436429346'},\n",
      "                                   'ShardId': 'shardId-000000000002'},\n",
      "                                  {'HashKeyRange': {'EndingHashKey': '340282366920938463463374607431768211455',\n",
      "                                                    'StartingHashKey': '255211775190703847597530955573826158592'},\n",
      "                                   'SequenceNumberRange': {'StartingSequenceNumber': '49632796690892662219539310911967243310073393228942409778'},\n",
      "                                   'ShardId': 'shardId-000000000003'}],\n",
      "                       'StreamARN': 'arn:aws:kinesis:eu-central-1:324805955411:stream/finance',\n",
      "                       'StreamCreationTimestamp': datetime.datetime(2022, 8, 29, 12, 48, 17, tzinfo=tzlocal()),\n",
      "                       'StreamModeDetails': {'StreamMode': 'ON_DEMAND'},\n",
      "                       'StreamName': 'finance',\n",
      "                       'StreamStatus': 'ACTIVE'}}\n"
     ]
    }
   ],
   "source": [
    "stream = client.describe_stream(StreamName=stream_name)\n",
    "pprint(stream)"
   ]
  },
  {
   "cell_type": "code",
   "execution_count": 392,
   "id": "cd235d13",
   "metadata": {},
   "outputs": [],
   "source": [
    "def get_shard_iterator(shard_id):\n",
    "    shard_iterator = client.get_shard_iterator(\n",
    "        StreamName=stream_name,\n",
    "        ShardId=shard_id,\n",
    "        ShardIteratorType=\"TRIM_HORIZON\"\n",
    "    )\n",
    "    return shard_iterator[\"ShardIterator\"]\n",
    "    \n",
    "def get_records(shard_id):\n",
    "    iterator = get_shard_iterator(shard_id)\n",
    "    records = client.get_records(\n",
    "        ShardIterator=iterator,\n",
    "        Limit=5000\n",
    "    )\n",
    "    df = pd.DataFrame(records[\"Records\"])\n",
    "    return df"
   ]
  },
  {
   "cell_type": "code",
   "execution_count": 399,
   "id": "2063ecaa",
   "metadata": {},
   "outputs": [
    {
     "data": {
      "text/html": [
       "<div>\n",
       "<style scoped>\n",
       "    .dataframe tbody tr th:only-of-type {\n",
       "        vertical-align: middle;\n",
       "    }\n",
       "\n",
       "    .dataframe tbody tr th {\n",
       "        vertical-align: top;\n",
       "    }\n",
       "\n",
       "    .dataframe thead th {\n",
       "        text-align: right;\n",
       "    }\n",
       "</style>\n",
       "<table border=\"1\" class=\"dataframe\">\n",
       "  <thead>\n",
       "    <tr style=\"text-align: right;\">\n",
       "      <th></th>\n",
       "      <th>SequenceNumber</th>\n",
       "      <th>ApproximateArrivalTimestamp</th>\n",
       "      <th>Data</th>\n",
       "    </tr>\n",
       "    <tr>\n",
       "      <th>PartitionKey</th>\n",
       "      <th></th>\n",
       "      <th></th>\n",
       "      <th></th>\n",
       "    </tr>\n",
       "  </thead>\n",
       "  <tbody>\n",
       "    <tr>\n",
       "      <th>12345</th>\n",
       "      <td>12</td>\n",
       "      <td>12</td>\n",
       "      <td>12</td>\n",
       "    </tr>\n",
       "    <tr>\n",
       "      <th>Conrad_rhm</th>\n",
       "      <td>2</td>\n",
       "      <td>2</td>\n",
       "      <td>2</td>\n",
       "    </tr>\n",
       "    <tr>\n",
       "      <th>RL_stocks</th>\n",
       "      <td>3</td>\n",
       "      <td>3</td>\n",
       "      <td>3</td>\n",
       "    </tr>\n",
       "    <tr>\n",
       "      <th>Uygar</th>\n",
       "      <td>1</td>\n",
       "      <td>1</td>\n",
       "      <td>1</td>\n",
       "    </tr>\n",
       "    <tr>\n",
       "      <th>attila_test</th>\n",
       "      <td>7</td>\n",
       "      <td>7</td>\n",
       "      <td>7</td>\n",
       "    </tr>\n",
       "    <tr>\n",
       "      <th>ceb</th>\n",
       "      <td>5</td>\n",
       "      <td>5</td>\n",
       "      <td>5</td>\n",
       "    </tr>\n",
       "    <tr>\n",
       "      <th>cinzia</th>\n",
       "      <td>333</td>\n",
       "      <td>333</td>\n",
       "      <td>333</td>\n",
       "    </tr>\n",
       "    <tr>\n",
       "      <th>johann_test</th>\n",
       "      <td>38</td>\n",
       "      <td>38</td>\n",
       "      <td>38</td>\n",
       "    </tr>\n",
       "    <tr>\n",
       "      <th>thau-test</th>\n",
       "      <td>7</td>\n",
       "      <td>7</td>\n",
       "      <td>7</td>\n",
       "    </tr>\n",
       "    <tr>\n",
       "      <th>thau-test2</th>\n",
       "      <td>3</td>\n",
       "      <td>3</td>\n",
       "      <td>3</td>\n",
       "    </tr>\n",
       "  </tbody>\n",
       "</table>\n",
       "</div>"
      ],
      "text/plain": [
       "              SequenceNumber  ApproximateArrivalTimestamp  Data\n",
       "PartitionKey                                                   \n",
       "12345                     12                           12    12\n",
       "Conrad_rhm                 2                            2     2\n",
       "RL_stocks                  3                            3     3\n",
       "Uygar                      1                            1     1\n",
       "attila_test                7                            7     7\n",
       "ceb                        5                            5     5\n",
       "cinzia                   333                          333   333\n",
       "johann_test               38                           38    38\n",
       "thau-test                  7                            7     7\n",
       "thau-test2                 3                            3     3"
      ]
     },
     "execution_count": 399,
     "metadata": {},
     "output_type": "execute_result"
    }
   ],
   "source": [
    "shards = [\"000000000000\", \"000000000001\", \"000000000002\"]\n",
    "shard_data = map(lambda s: get_records(s), shards)\n",
    "\n",
    "df = pd.concat(shard_data)\n",
    "df.groupby(\"PartitionKey\").count()"
   ]
  },
  {
   "cell_type": "code",
   "execution_count": null,
   "id": "3f68de48",
   "metadata": {},
   "outputs": [],
   "source": []
  }
 ],
 "metadata": {
  "kernelspec": {
   "display_name": "Python 3.10.6 ('awacademy')",
   "language": "python",
   "name": "python3"
  },
  "language_info": {
   "codemirror_mode": {
    "name": "ipython",
    "version": 3
   },
   "file_extension": ".py",
   "mimetype": "text/x-python",
   "name": "python",
   "nbconvert_exporter": "python",
   "pygments_lexer": "ipython3",
   "version": "3.10.6"
  },
  "vscode": {
   "interpreter": {
    "hash": "36a9c84712b737106badc79b4cff0388ddab2de9d00a6ed757191e8239ea4802"
   }
  }
 },
 "nbformat": 4,
 "nbformat_minor": 5
}
