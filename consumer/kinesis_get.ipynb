{
 "cells": [
  {
   "cell_type": "code",
   "execution_count": null,
   "id": "c1060e2d",
   "metadata": {},
   "outputs": [],
   "source": [
    "import boto3\n",
    "import pandas as pd\n",
    "from pprint import pprint\n",
    "import json"
   ]
  },
  {
   "cell_type": "code",
   "execution_count": null,
   "id": "a63a2c20",
   "metadata": {},
   "outputs": [],
   "source": [
    "secrets = pd.read_json(\"../secrets/credentials.json\")\n",
    "creds = {\"aws_access_key_id\": secrets[\"aws\"][\"key_id\"],\n",
    "       \"aws_secret_access_key\": secrets[\"aws\"][\"key\"]\n",
    "}\n",
    "\n",
    "client = boto3.client(\"kinesis\",**creds)\n",
    "\n",
    "stream_name = \"finance\""
   ]
  },
  {
   "cell_type": "code",
   "execution_count": null,
   "id": "2829edcd",
   "metadata": {},
   "outputs": [],
   "source": [
    "stream = client.describe_stream(StreamName=stream_name)\n",
    "pprint(stream)"
   ]
  },
  {
   "cell_type": "code",
   "execution_count": null,
   "id": "cd235d13",
   "metadata": {},
   "outputs": [],
   "source": [
    "def get_shard_iterator(shard_id):\n",
    "    shard_iterator = client.get_shard_iterator(\n",
    "        StreamName=stream_name,\n",
    "        ShardId=shard_id,\n",
    "        ShardIteratorType=\"TRIM_HORIZON\"\n",
    "    )\n",
    "    return shard_iterator[\"ShardIterator\"]\n",
    "    \n",
    "def get_records(shard_id):\n",
    "    iterator = get_shard_iterator(shard_id)\n",
    "    records = client.get_records(\n",
    "        ShardIterator=iterator,\n",
    "        Limit=5000\n",
    "    )\n",
    "    df = pd.DataFrame(records[\"Records\"])\n",
    "    return df"
   ]
  },
  {
   "cell_type": "code",
   "execution_count": null,
   "id": "2063ecaa",
   "metadata": {},
   "outputs": [],
   "source": [
    "shards = stream['StreamDescription']['Shards']\n",
    "shard_ids = map(lambda s: s[\"ShardId\"], shards)\n",
    "shard_data = map(lambda s: get_records(s), shard_ids)\n",
    "\n",
    "df = pd.concat(shard_data)\n",
    "df.groupby(\"PartitionKey\").count()"
   ]
  }
 ],
 "metadata": {
  "kernelspec": {
   "display_name": "Python 3.10.6 ('awacademy')",
   "language": "python",
   "name": "python3"
  },
  "language_info": {
   "codemirror_mode": {
    "name": "ipython",
    "version": 3
   },
   "file_extension": ".py",
   "mimetype": "text/x-python",
   "name": "python",
   "nbconvert_exporter": "python",
   "pygments_lexer": "ipython3",
   "version": "3.10.6"
  },
  "vscode": {
   "interpreter": {
    "hash": "36a9c84712b737106badc79b4cff0388ddab2de9d00a6ed757191e8239ea4802"
   }
  }
 },
 "nbformat": 4,
 "nbformat_minor": 5
}
