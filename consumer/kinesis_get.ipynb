{
 "cells": [
  {
   "cell_type": "code",
   "execution_count": 413,
   "id": "c1060e2d",
   "metadata": {},
   "outputs": [],
   "source": [
    "import boto3\n",
    "import pandas as pd\n",
    "from pprint import pprint\n",
    "import json"
   ]
  },
  {
   "cell_type": "code",
   "execution_count": 414,
   "id": "a63a2c20",
   "metadata": {},
   "outputs": [],
   "source": [
    "secrets = pd.read_json(\"../secrets/credentials.json\")\n",
    "creds = {\"aws_access_key_id\": secrets[\"aws\"][\"key_id\"],\n",
    "       \"aws_secret_access_key\": secrets[\"aws\"][\"key\"]\n",
    "}\n",
    "\n",
    "client = boto3.client(\"kinesis\",**creds)\n",
    "\n",
    "stream_name = \"finance\""
   ]
  },
  {
   "cell_type": "code",
   "execution_count": 415,
   "id": "2829edcd",
   "metadata": {},
   "outputs": [
    {
     "ename": "ResourceNotFoundException",
     "evalue": "An error occurred (ResourceNotFoundException) when calling the DescribeStream operation: Stream finance_single under account 324805955411 not found.",
     "output_type": "error",
     "traceback": [
      "\u001b[0;31m---------------------------------------------------------------------------\u001b[0m",
      "\u001b[0;31mResourceNotFoundException\u001b[0m                 Traceback (most recent call last)",
      "\u001b[1;32m/Users/tobiashau/Library/CloudStorage/OneDrive-ThinkportGmbH/dev/aw_academy/kinesis-spark/consumer/kinesis_get.ipynb Cell 3\u001b[0m in \u001b[0;36m<cell line: 1>\u001b[0;34m()\u001b[0m\n\u001b[0;32m----> <a href='vscode-notebook-cell:/Users/tobiashau/Library/CloudStorage/OneDrive-ThinkportGmbH/dev/aw_academy/kinesis-spark/consumer/kinesis_get.ipynb#W2sZmlsZQ%3D%3D?line=0'>1</a>\u001b[0m stream \u001b[39m=\u001b[39m client\u001b[39m.\u001b[39;49mdescribe_stream(StreamName\u001b[39m=\u001b[39;49mstream_name)\n\u001b[1;32m      <a href='vscode-notebook-cell:/Users/tobiashau/Library/CloudStorage/OneDrive-ThinkportGmbH/dev/aw_academy/kinesis-spark/consumer/kinesis_get.ipynb#W2sZmlsZQ%3D%3D?line=1'>2</a>\u001b[0m pprint(stream)\n",
      "File \u001b[0;32m~/.virtualenvs/awacademy/lib/python3.10/site-packages/botocore/client.py:508\u001b[0m, in \u001b[0;36mClientCreator._create_api_method.<locals>._api_call\u001b[0;34m(self, *args, **kwargs)\u001b[0m\n\u001b[1;32m    504\u001b[0m     \u001b[39mraise\u001b[39;00m \u001b[39mTypeError\u001b[39;00m(\n\u001b[1;32m    505\u001b[0m         \u001b[39mf\u001b[39m\u001b[39m\"\u001b[39m\u001b[39m{\u001b[39;00mpy_operation_name\u001b[39m}\u001b[39;00m\u001b[39m() only accepts keyword arguments.\u001b[39m\u001b[39m\"\u001b[39m\n\u001b[1;32m    506\u001b[0m     )\n\u001b[1;32m    507\u001b[0m \u001b[39m# The \"self\" in this scope is referring to the BaseClient.\u001b[39;00m\n\u001b[0;32m--> 508\u001b[0m \u001b[39mreturn\u001b[39;00m \u001b[39mself\u001b[39;49m\u001b[39m.\u001b[39;49m_make_api_call(operation_name, kwargs)\n",
      "File \u001b[0;32m~/.virtualenvs/awacademy/lib/python3.10/site-packages/botocore/client.py:915\u001b[0m, in \u001b[0;36mBaseClient._make_api_call\u001b[0;34m(self, operation_name, api_params)\u001b[0m\n\u001b[1;32m    913\u001b[0m     error_code \u001b[39m=\u001b[39m parsed_response\u001b[39m.\u001b[39mget(\u001b[39m\"\u001b[39m\u001b[39mError\u001b[39m\u001b[39m\"\u001b[39m, {})\u001b[39m.\u001b[39mget(\u001b[39m\"\u001b[39m\u001b[39mCode\u001b[39m\u001b[39m\"\u001b[39m)\n\u001b[1;32m    914\u001b[0m     error_class \u001b[39m=\u001b[39m \u001b[39mself\u001b[39m\u001b[39m.\u001b[39mexceptions\u001b[39m.\u001b[39mfrom_code(error_code)\n\u001b[0;32m--> 915\u001b[0m     \u001b[39mraise\u001b[39;00m error_class(parsed_response, operation_name)\n\u001b[1;32m    916\u001b[0m \u001b[39melse\u001b[39;00m:\n\u001b[1;32m    917\u001b[0m     \u001b[39mreturn\u001b[39;00m parsed_response\n",
      "\u001b[0;31mResourceNotFoundException\u001b[0m: An error occurred (ResourceNotFoundException) when calling the DescribeStream operation: Stream finance_single under account 324805955411 not found."
     ]
    }
   ],
   "source": [
    "stream = client.describe_stream(StreamName=stream_name)\n",
    "pprint(stream)"
   ]
  },
  {
   "cell_type": "code",
   "execution_count": null,
   "id": "cd235d13",
   "metadata": {},
   "outputs": [],
   "source": [
    "def get_shard_iterator(shard_id):\n",
    "    shard_iterator = client.get_shard_iterator(\n",
    "        StreamName=stream_name,\n",
    "        ShardId=shard_id,\n",
    "        ShardIteratorType=\"TRIM_HORIZON\"\n",
    "    )\n",
    "    return shard_iterator[\"ShardIterator\"]\n",
    "    \n",
    "def get_records(shard_id):\n",
    "    iterator = get_shard_iterator(shard_id)\n",
    "    records = client.get_records(\n",
    "        ShardIterator=iterator,\n",
    "        Limit=5000\n",
    "    )\n",
    "    df = pd.DataFrame(records[\"Records\"])\n",
    "    return df"
   ]
  },
  {
   "cell_type": "code",
   "execution_count": null,
   "id": "2063ecaa",
   "metadata": {},
   "outputs": [
    {
     "data": {
      "text/html": [
       "<div>\n",
       "<style scoped>\n",
       "    .dataframe tbody tr th:only-of-type {\n",
       "        vertical-align: middle;\n",
       "    }\n",
       "\n",
       "    .dataframe tbody tr th {\n",
       "        vertical-align: top;\n",
       "    }\n",
       "\n",
       "    .dataframe thead th {\n",
       "        text-align: right;\n",
       "    }\n",
       "</style>\n",
       "<table border=\"1\" class=\"dataframe\">\n",
       "  <thead>\n",
       "    <tr style=\"text-align: right;\">\n",
       "      <th></th>\n",
       "      <th>SequenceNumber</th>\n",
       "      <th>ApproximateArrivalTimestamp</th>\n",
       "      <th>Data</th>\n",
       "    </tr>\n",
       "    <tr>\n",
       "      <th>PartitionKey</th>\n",
       "      <th></th>\n",
       "      <th></th>\n",
       "      <th></th>\n",
       "    </tr>\n",
       "  </thead>\n",
       "  <tbody>\n",
       "    <tr>\n",
       "      <th>thau-test</th>\n",
       "      <td>2</td>\n",
       "      <td>2</td>\n",
       "      <td>2</td>\n",
       "    </tr>\n",
       "    <tr>\n",
       "      <th>thau-test-2</th>\n",
       "      <td>3</td>\n",
       "      <td>3</td>\n",
       "      <td>3</td>\n",
       "    </tr>\n",
       "    <tr>\n",
       "      <th>thau-test-3</th>\n",
       "      <td>2</td>\n",
       "      <td>2</td>\n",
       "      <td>2</td>\n",
       "    </tr>\n",
       "  </tbody>\n",
       "</table>\n",
       "</div>"
      ],
      "text/plain": [
       "              SequenceNumber  ApproximateArrivalTimestamp  Data\n",
       "PartitionKey                                                   \n",
       "thau-test                  2                            2     2\n",
       "thau-test-2                3                            3     3\n",
       "thau-test-3                2                            2     2"
      ]
     },
     "execution_count": 409,
     "metadata": {},
     "output_type": "execute_result"
    }
   ],
   "source": [
    "shards = [\"000000000000\"]\n",
    "shard_data = map(lambda s: get_records(s), shards)\n",
    "\n",
    "df = pd.concat(shard_data)\n",
    "df.groupby(\"PartitionKey\").count()"
   ]
  },
  {
   "cell_type": "code",
   "execution_count": null,
   "id": "3f68de48",
   "metadata": {},
   "outputs": [],
   "source": []
  }
 ],
 "metadata": {
  "kernelspec": {
   "display_name": "Python 3.10.6 ('awacademy')",
   "language": "python",
   "name": "python3"
  },
  "language_info": {
   "codemirror_mode": {
    "name": "ipython",
    "version": 3
   },
   "file_extension": ".py",
   "mimetype": "text/x-python",
   "name": "python",
   "nbconvert_exporter": "python",
   "pygments_lexer": "ipython3",
   "version": "3.10.6"
  },
  "vscode": {
   "interpreter": {
    "hash": "36a9c84712b737106badc79b4cff0388ddab2de9d00a6ed757191e8239ea4802"
   }
  }
 },
 "nbformat": 4,
 "nbformat_minor": 5
}
